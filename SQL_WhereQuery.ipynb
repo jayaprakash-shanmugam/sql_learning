{
  "nbformat": 4,
  "nbformat_minor": 0,
  "metadata": {
    "colab": {
      "provenance": []
    },
    "kernelspec": {
      "name": "python3",
      "display_name": "Python 3"
    },
    "language_info": {
      "name": "python"
    }
  },
  "cells": [
    {
      "cell_type": "code",
      "execution_count": 1,
      "metadata": {
        "colab": {
          "base_uri": "https://localhost:8080/"
        },
        "id": "IxJjPAgnQaJY",
        "outputId": "4731e62e-f929-40a3-f341-724cdaba59d0"
      },
      "outputs": [
        {
          "output_type": "stream",
          "name": "stdout",
          "text": [
            "database opened\n"
          ]
        }
      ],
      "source": [
        "import sqlite3\n",
        "conn=sqlite3.connect('Employees.db')\n",
        "print(\"database opened\")"
      ]
    },
    {
      "cell_type": "code",
      "source": [
        "# Table 1 Query:\n",
        "conn.execute('''Create Table EmployeeDetails(\n",
        "EmployeeID int, \n",
        "FirstName varchar(50), \n",
        "LastName varchar(50), \n",
        "Age int, \n",
        "Gender varchar(50)\n",
        ");''')\n",
        "conn.commit()"
      ],
      "metadata": {
        "id": "pfEVrHFKRPzV"
      },
      "execution_count": 3,
      "outputs": []
    },
    {
      "cell_type": "code",
      "source": [
        "#Table 2 Query:\n",
        "conn.execute('''Create Table EmployeeSalary(\n",
        "EmployeeID int, \n",
        "JobTitle varchar(50), \n",
        "Salary int\n",
        ");''')\n",
        "conn.commit()"
      ],
      "metadata": {
        "id": "ZYzdu-YFRRol"
      },
      "execution_count": 4,
      "outputs": []
    },
    {
      "cell_type": "code",
      "source": [
        "# Table 1 Insertion Query:\n",
        "conn.execute('''Insert into EmployeeDetails VALUES\n",
        "(1001, 'Jim', 'Halpert', 30, 'Male'),\n",
        "(1002, 'Pam', 'Beasley', 30, 'Female'),\n",
        "(1003, 'Dwight', 'Schrute', 29, 'Male'),\n",
        "(1004, 'Angela', 'Martin', 31, 'Female'),\n",
        "(1005, 'Toby', 'Flenderson', 32, 'Male'),\n",
        "(1006, 'Michael', 'Scott', 35, 'Male'),\n",
        "(1007, 'Meredith', 'Palmer', 32, 'Female'),\n",
        "(1008, 'Stanley', 'Hudson', 38, 'Male'),\n",
        "(1009, 'Kevin', 'Malone', 31, 'Male');''')\n",
        "conn.commit()"
      ],
      "metadata": {
        "id": "kM_OShXZRTpN"
      },
      "execution_count": 5,
      "outputs": []
    },
    {
      "cell_type": "code",
      "source": [
        "# Table 2 Insertion Query:\n",
        "conn.execute('''Insert Into EmployeeSalary VALUES\n",
        "(1001, 'Salesman', 45000),\n",
        "(1002, 'Receptionist', 36000),\n",
        "(1003, 'Salesman', 63000),\n",
        "(1004, 'Accountant', 47000),\n",
        "(1005, 'HR', 50000),\n",
        "(1006, 'Regional Manager', 65000),\n",
        "(1007, 'Supplier Relations', 41000),\n",
        "(1008, 'Salesman', 48000),\n",
        "(1009, 'Accountant', 42000);''')\n",
        "conn.commit()"
      ],
      "metadata": {
        "id": "iHAvoKj4RVcF"
      },
      "execution_count": 6,
      "outputs": []
    },
    {
      "cell_type": "code",
      "source": [
        "# Select query for table1\n",
        "EmployeeDetails=conn.execute('''select * from EmployeeDetails;''')\n",
        "for i in EmployeeDetails:\n",
        "  print(i)"
      ],
      "metadata": {
        "colab": {
          "base_uri": "https://localhost:8080/"
        },
        "id": "4iYhxQPyQwuy",
        "outputId": "d6c833fe-6f69-4e69-a064-ac913b2edb5f"
      },
      "execution_count": 7,
      "outputs": [
        {
          "output_type": "stream",
          "name": "stdout",
          "text": [
            "(1001, 'Jim', 'Halpert', 30, 'Male')\n",
            "(1002, 'Pam', 'Beasley', 30, 'Female')\n",
            "(1003, 'Dwight', 'Schrute', 29, 'Male')\n",
            "(1004, 'Angela', 'Martin', 31, 'Female')\n",
            "(1005, 'Toby', 'Flenderson', 32, 'Male')\n",
            "(1006, 'Michael', 'Scott', 35, 'Male')\n",
            "(1007, 'Meredith', 'Palmer', 32, 'Female')\n",
            "(1008, 'Stanley', 'Hudson', 38, 'Male')\n",
            "(1009, 'Kevin', 'Malone', 31, 'Male')\n"
          ]
        }
      ]
    },
    {
      "cell_type": "code",
      "source": [
        "# Select query for table2\n",
        "EmployeeSalary=conn.execute('''select * from EmployeeSalary''')\n",
        "for i in EmployeeSalary:\n",
        "  print(i)"
      ],
      "metadata": {
        "colab": {
          "base_uri": "https://localhost:8080/"
        },
        "id": "5bGxk-MIQ-Jm",
        "outputId": "46c01b6c-e1d8-4fb7-d0e6-58b2801eb9d2"
      },
      "execution_count": 8,
      "outputs": [
        {
          "output_type": "stream",
          "name": "stdout",
          "text": [
            "(1001, 'Salesman', 45000)\n",
            "(1002, 'Receptionist', 36000)\n",
            "(1003, 'Salesman', 63000)\n",
            "(1004, 'Accountant', 47000)\n",
            "(1005, 'HR', 50000)\n",
            "(1006, 'Regional Manager', 65000)\n",
            "(1007, 'Supplier Relations', 41000)\n",
            "(1008, 'Salesman', 48000)\n",
            "(1009, 'Accountant', 42000)\n"
          ]
        }
      ]
    },
    {
      "cell_type": "code",
      "source": [
        "conn.commit()"
      ],
      "metadata": {
        "id": "XtBqO8SsRyHA"
      },
      "execution_count": 9,
      "outputs": []
    },
    {
      "cell_type": "markdown",
      "source": [
        "```\n",
        "WHERE Query \n"
      ],
      "metadata": {
        "id": "68xj-RYbRbsi"
      }
    },
    {
      "cell_type": "markdown",
      "source": [
        "```\n",
        "'=' equal\n"
      ],
      "metadata": {
        "id": "62NEzODrTPyT"
      }
    },
    {
      "cell_type": "code",
      "source": [
        "select_equal=conn.execute('''select Age from EmployeeDetails where FirstName=\"Dwight\";''') # '=' is used to print the FirstName which is equals to 'Dwight'\n",
        "for i in select_Age:\n",
        "  print(i)"
      ],
      "metadata": {
        "id": "4GIPPgVLRYnW"
      },
      "execution_count": 13,
      "outputs": []
    },
    {
      "cell_type": "markdown",
      "source": [
        "```\n",
        "'<>'  not equal\n"
      ],
      "metadata": {
        "id": "tDrkNkEwTZZZ"
      }
    },
    {
      "cell_type": "code",
      "source": [
        "select_NotEqual=conn.execute('''select Age from EmployeeDetails where FirstName<>\"Dwight\";''') # '<>' means not equal\n",
        "for i in select_Age:\n",
        "  print(i)"
      ],
      "metadata": {
        "id": "giyRzervShhr"
      },
      "execution_count": 14,
      "outputs": []
    },
    {
      "cell_type": "markdown",
      "source": [
        "```\n",
        "'<' less than\n"
      ],
      "metadata": {
        "id": "h_ATKwD6Tg0m"
      }
    },
    {
      "cell_type": "code",
      "source": [
        "select_LessThan=conn.execute('''select Age from EmployeeDetails where Age<\"35\"''')\n",
        "for i in select_LessThan:\n",
        "  print(i)"
      ],
      "metadata": {
        "colab": {
          "base_uri": "https://localhost:8080/"
        },
        "id": "s53j_JTUT3Vv",
        "outputId": "f5268c8f-aadd-4c99-e48f-a7d4e9558ff9"
      },
      "execution_count": 16,
      "outputs": [
        {
          "output_type": "stream",
          "name": "stdout",
          "text": [
            "(30,)\n",
            "(30,)\n",
            "(29,)\n",
            "(31,)\n",
            "(32,)\n",
            "(32,)\n",
            "(31,)\n"
          ]
        }
      ]
    },
    {
      "cell_type": "markdown",
      "source": [
        "```\n",
        "'>' greater than\n"
      ],
      "metadata": {
        "id": "xoQBlUolVSPf"
      }
    },
    {
      "cell_type": "code",
      "source": [
        "select_GreaterThan=conn.execute('''select Age from EmployeeDetails where Age>\"35\"''')\n",
        "for i in select_GreaterThan:\n",
        "  print(i)"
      ],
      "metadata": {
        "colab": {
          "base_uri": "https://localhost:8080/"
        },
        "id": "rkq5Z8HxURUP",
        "outputId": "ea509a06-b655-4fde-e6ed-ef2b8dac6f95"
      },
      "execution_count": 17,
      "outputs": [
        {
          "output_type": "stream",
          "name": "stdout",
          "text": [
            "(38,)\n"
          ]
        }
      ]
    },
    {
      "cell_type": "markdown",
      "source": [
        "```\n",
        "'and'\n"
      ],
      "metadata": {
        "id": "X9mDJUwLVWgg"
      }
    },
    {
      "cell_type": "code",
      "source": [
        "select_Name=conn.execute('''select FirstName,LastName from EmployeeDetails where Age=\"30\" and Gender=\"Male\";''')\n",
        "for i in select_Name:\n",
        "  print(i)"
      ],
      "metadata": {
        "colab": {
          "base_uri": "https://localhost:8080/"
        },
        "id": "_yrWOEX1Uemw",
        "outputId": "e54139f9-7c08-44f7-ae18-90c73a3d5bd8"
      },
      "execution_count": 18,
      "outputs": [
        {
          "output_type": "stream",
          "name": "stdout",
          "text": [
            "('Jim', 'Halpert')\n"
          ]
        }
      ]
    },
    {
      "cell_type": "markdown",
      "source": [
        "```\n",
        "'or'\n"
      ],
      "metadata": {
        "id": "pOresi15Va3-"
      }
    },
    {
      "cell_type": "code",
      "source": [
        "select_Name=conn.execute('''select FirstName,LastName from EmployeeDetails where Age=\"30\" or Gender=\"Male\";''')\n",
        "for i in select_Name:\n",
        "  print(i)"
      ],
      "metadata": {
        "colab": {
          "base_uri": "https://localhost:8080/"
        },
        "id": "c-Nq81lvVH2H",
        "outputId": "08313e84-3dfe-4029-d101-3daf21e93f6c"
      },
      "execution_count": 19,
      "outputs": [
        {
          "output_type": "stream",
          "name": "stdout",
          "text": [
            "('Jim', 'Halpert')\n",
            "('Pam', 'Beasley')\n",
            "('Dwight', 'Schrute')\n",
            "('Toby', 'Flenderson')\n",
            "('Michael', 'Scott')\n",
            "('Stanley', 'Hudson')\n",
            "('Kevin', 'Malone')\n"
          ]
        }
      ]
    },
    {
      "cell_type": "markdown",
      "source": [
        "```\n",
        "'NULL'\n"
      ],
      "metadata": {
        "id": "BpE6KojJVtUQ"
      }
    },
    {
      "cell_type": "code",
      "source": [
        "select_Name=conn.execute('''select FirstName,LastName from EmployeeDetails where FirstName is NULL;''')\n",
        "for i in select_Name:\n",
        "  print(i)"
      ],
      "metadata": {
        "id": "ugBLo3MDVqoZ"
      },
      "execution_count": 21,
      "outputs": []
    },
    {
      "cell_type": "markdown",
      "source": [
        "```\n",
        "'NOT NULL'\n"
      ],
      "metadata": {
        "id": "Gmeq7llXV5fh"
      }
    },
    {
      "cell_type": "code",
      "source": [
        "select_Name=conn.execute('''select FirstName,LastName from EmployeeDetails where FirstName is Not NULL;''')\n",
        "for i in select_Name:\n",
        "  print(i)"
      ],
      "metadata": {
        "colab": {
          "base_uri": "https://localhost:8080/"
        },
        "id": "mZpYnsvoVjpF",
        "outputId": "d37986a2-9fba-4b92-9329-081595eb3e0a"
      },
      "execution_count": 22,
      "outputs": [
        {
          "output_type": "stream",
          "name": "stdout",
          "text": [
            "('Jim', 'Halpert')\n",
            "('Pam', 'Beasley')\n",
            "('Dwight', 'Schrute')\n",
            "('Angela', 'Martin')\n",
            "('Toby', 'Flenderson')\n",
            "('Michael', 'Scott')\n",
            "('Meredith', 'Palmer')\n",
            "('Stanley', 'Hudson')\n",
            "('Kevin', 'Malone')\n"
          ]
        }
      ]
    },
    {
      "cell_type": "markdown",
      "source": [
        "```\n",
        "'in'\n"
      ],
      "metadata": {
        "id": "ftldpF02WHB2"
      }
    },
    {
      "cell_type": "code",
      "source": [
        "select_Name=conn.execute('''select FirstName,LastName from EmployeeDetails where Age in ('29','30');''')\n",
        "for i in select_Name:\n",
        "  print(i)"
      ],
      "metadata": {
        "colab": {
          "base_uri": "https://localhost:8080/"
        },
        "id": "q3zjIxo8WEtr",
        "outputId": "b7a9f18a-665b-4865-e36e-6c07e07fd0a2"
      },
      "execution_count": 23,
      "outputs": [
        {
          "output_type": "stream",
          "name": "stdout",
          "text": [
            "('Jim', 'Halpert')\n",
            "('Pam', 'Beasley')\n",
            "('Dwight', 'Schrute')\n"
          ]
        }
      ]
    },
    {
      "cell_type": "markdown",
      "source": [
        "```\n",
        "'LIKE'\n"
      ],
      "metadata": {
        "id": "AkTv9Gg-WU-N"
      }
    },
    {
      "cell_type": "markdown",
      "source": [
        "**'%' is a wildcard**"
      ],
      "metadata": {
        "id": "-oabeupDXQKJ"
      }
    },
    {
      "cell_type": "code",
      "source": [
        "# J% => every First Name starting with the letter 'J'\n",
        "select_FirstName=conn.execute('''select FirstName from EmployeeDetails where FirstName LIKE \"J%\";''')\n",
        "for i in select_FirstName:\n",
        "  print(i)"
      ],
      "metadata": {
        "colab": {
          "base_uri": "https://localhost:8080/"
        },
        "id": "mqGbjeTdWQ0O",
        "outputId": "f195d8a5-fc9f-4572-a2a0-d0a753ec9fa4"
      },
      "execution_count": 28,
      "outputs": [
        {
          "output_type": "stream",
          "name": "stdout",
          "text": [
            "('Jim',)\n"
          ]
        }
      ]
    },
    {
      "cell_type": "code",
      "source": [
        "# %m => every First Name ending with the letter 'm'\n",
        "select_FirstName=conn.execute('''select FirstName from EmployeeDetails where FirstName LIKE \"%m\";''')\n",
        "for i in select_FirstName:\n",
        "  print(i)"
      ],
      "metadata": {
        "colab": {
          "base_uri": "https://localhost:8080/"
        },
        "id": "gc0xHIcnWnnH",
        "outputId": "990c3649-874d-4616-a625-825540c0dd54"
      },
      "execution_count": 29,
      "outputs": [
        {
          "output_type": "stream",
          "name": "stdout",
          "text": [
            "('Jim',)\n",
            "('Pam',)\n"
          ]
        }
      ]
    },
    {
      "cell_type": "code",
      "source": [
        "# %i% => every First Name that has the letter 'i'\n",
        "select_FirstName=conn.execute('''select FirstName from EmployeeDetails where FirstName LIKE \"%i%\";''')\n",
        "for i in select_FirstName:\n",
        "  print(i)"
      ],
      "metadata": {
        "colab": {
          "base_uri": "https://localhost:8080/"
        },
        "id": "ZjhHJE5RXh2Y",
        "outputId": "f36f33d7-8891-4796-b06b-96b71ed0e9b7"
      },
      "execution_count": 30,
      "outputs": [
        {
          "output_type": "stream",
          "name": "stdout",
          "text": [
            "('Jim',)\n",
            "('Dwight',)\n",
            "('Michael',)\n",
            "('Meredith',)\n",
            "('Kevin',)\n"
          ]
        }
      ]
    },
    {
      "cell_type": "code",
      "source": [
        "# J%i% => every First Name starting with the letter 'J' and has 'i' in it\n",
        "select_FirstName=conn.execute('''select FirstName from EmployeeDetails where FirstName LIKE \"J%i%\";''')\n",
        "for i in select_FirstName:\n",
        "  print(i)"
      ],
      "metadata": {
        "colab": {
          "base_uri": "https://localhost:8080/"
        },
        "id": "SSeVZpEbXs4r",
        "outputId": "3c0bd60b-c3fb-400b-8a46-c50c6b730992"
      },
      "execution_count": 31,
      "outputs": [
        {
          "output_type": "stream",
          "name": "stdout",
          "text": [
            "('Jim',)\n"
          ]
        }
      ]
    },
    {
      "cell_type": "code",
      "source": [
        "# M%i%l => every First Name starting with the letter 'M' and has 'i' in it and ends with the letter 'l'\n",
        "select_FirstName=conn.execute('''select FirstName from EmployeeDetails where FirstName LIKE \"M%i%l\";''')\n",
        "for i in select_FirstName:\n",
        "  print(i)"
      ],
      "metadata": {
        "colab": {
          "base_uri": "https://localhost:8080/"
        },
        "id": "LfF273_EX4YU",
        "outputId": "2c2816c4-0276-4d68-fb32-f14a76828ce7"
      },
      "execution_count": 32,
      "outputs": [
        {
          "output_type": "stream",
          "name": "stdout",
          "text": [
            "('Michael',)\n"
          ]
        }
      ]
    },
    {
      "cell_type": "code",
      "source": [
        "# _i% => every First Name starting with any letter andthat have 0 in the second  positions. \n",
        "select_FirstName=conn.execute('''select FirstName from EmployeeDetails where FirstName LIKE \"_i%\";''')\n",
        "for i in select_FirstName:\n",
        "  print(i)"
      ],
      "metadata": {
        "colab": {
          "base_uri": "https://localhost:8080/"
        },
        "id": "ZAWQyS5zYFOT",
        "outputId": "588f3775-3110-4de6-c371-759e5b3572e7"
      },
      "execution_count": 33,
      "outputs": [
        {
          "output_type": "stream",
          "name": "stdout",
          "text": [
            "('Jim',)\n",
            "('Michael',)\n"
          ]
        }
      ]
    }
  ]
}