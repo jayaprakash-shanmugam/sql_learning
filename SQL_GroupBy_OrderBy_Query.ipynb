{
  "nbformat": 4,
  "nbformat_minor": 0,
  "metadata": {
    "colab": {
      "provenance": []
    },
    "kernelspec": {
      "name": "python3",
      "display_name": "Python 3"
    },
    "language_info": {
      "name": "python"
    }
  },
  "cells": [
    {
      "cell_type": "code",
      "execution_count": 1,
      "metadata": {
        "colab": {
          "base_uri": "https://localhost:8080/"
        },
        "id": "1GDgoIcJAGR3",
        "outputId": "884375fe-477e-41f2-a2f5-98571f626cb3"
      },
      "outputs": [
        {
          "output_type": "stream",
          "name": "stdout",
          "text": [
            "Opened database successfully\n"
          ]
        }
      ],
      "source": [
        "import sqlite3\n",
        "conn = sqlite3.connect('Employees.db')\n",
        "print(\"Opened database successfully\");"
      ]
    },
    {
      "cell_type": "code",
      "source": [
        "# Table 1 Query:\n",
        "conn.execute('''Create Table EmployeeDetails(\n",
        "EmployeeID int, \n",
        "FirstName varchar(50), \n",
        "LastName varchar(50), \n",
        "Age int, \n",
        "Gender varchar(50)\n",
        ");''')\n",
        "conn.commit()"
      ],
      "metadata": {
        "id": "rpbIu5QwAoQ1"
      },
      "execution_count": 2,
      "outputs": []
    },
    {
      "cell_type": "code",
      "source": [
        "#Table 2 Query:\n",
        "conn.execute('''Create Table EmployeeSalary(\n",
        "EmployeeID int, \n",
        "JobTitle varchar(50), \n",
        "Salary int\n",
        ");''')\n",
        "conn.commit()\n"
      ],
      "metadata": {
        "id": "a3_IaxkuAqgW"
      },
      "execution_count": 3,
      "outputs": []
    },
    {
      "cell_type": "code",
      "source": [
        "# Table 1 Insertion Query:\n",
        "conn.execute('''Insert into EmployeeDetails VALUES\n",
        "(1001, 'Jim', 'Halpert', 30, 'Male'),\n",
        "(1002, 'Pam', 'Beasley', 30, 'Female'),\n",
        "(1003, 'Dwight', 'Schrute', 29, 'Male'),\n",
        "(1004, 'Angela', 'Martin', 31, 'Female'),\n",
        "(1005, 'Toby', 'Flenderson', 32, 'Male'),\n",
        "(1006, 'Michael', 'Scott', 35, 'Male'),\n",
        "(1007, 'Meredith', 'Palmer', 32, 'Female'),\n",
        "(1008, 'Stanley', 'Hudson', 38, 'Male'),\n",
        "(1009, 'Kevin', 'Malone', 31, 'Male');''')\n",
        "conn.commit()"
      ],
      "metadata": {
        "id": "7JZJzA6NAttT"
      },
      "execution_count": 4,
      "outputs": []
    },
    {
      "cell_type": "code",
      "source": [
        "# Table 2 Insertion Query:\n",
        "conn.execute('''Insert Into EmployeeSalary VALUES\n",
        "(1001, 'Salesman', 45000),\n",
        "(1002, 'Receptionist', 36000),\n",
        "(1003, 'Salesman', 63000),\n",
        "(1004, 'Accountant', 47000),\n",
        "(1005, 'HR', 50000),\n",
        "(1006, 'Regional Manager', 65000),\n",
        "(1007, 'Supplier Relations', 41000),\n",
        "(1008, 'Salesman', 48000),\n",
        "(1009, 'Accountant', 42000);''')\n",
        "conn.commit()"
      ],
      "metadata": {
        "id": "KbvJ_Aj3AvFc"
      },
      "execution_count": 5,
      "outputs": []
    },
    {
      "cell_type": "markdown",
      "source": [
        "```\n",
        "GROUP BY Query\n"
      ],
      "metadata": {
        "id": "2nowh8SYAyB_"
      }
    },
    {
      "cell_type": "code",
      "source": [
        "groupby_Gender=conn.execute('''select Gender,Count(Gender) from EmployeeDetails group by Gender;''')\n",
        "for i in groupby_Gender:\n",
        "  print(i)"
      ],
      "metadata": {
        "colab": {
          "base_uri": "https://localhost:8080/"
        },
        "id": "18LD4XkdAwbc",
        "outputId": "420ec14b-f1a9-4df4-da69-2394e6507bfe"
      },
      "execution_count": 8,
      "outputs": [
        {
          "output_type": "stream",
          "name": "stdout",
          "text": [
            "('Female', 3)\n",
            "('Male', 6)\n"
          ]
        }
      ]
    },
    {
      "cell_type": "code",
      "source": [
        "groupby_JobTitle=conn.execute('''select JobTitle,count(JobTitle) from EmployeeSalary group by JobTitle;''')\n",
        "for i in groupby_JobTitle:\n",
        "  print(i)"
      ],
      "metadata": {
        "colab": {
          "base_uri": "https://localhost:8080/"
        },
        "id": "AO1l6J36BXuc",
        "outputId": "5077964b-c4f1-454e-ae09-2700d7236699"
      },
      "execution_count": 10,
      "outputs": [
        {
          "output_type": "stream",
          "name": "stdout",
          "text": [
            "('Accountant', 2)\n",
            "('HR', 1)\n",
            "('Receptionist', 1)\n",
            "('Regional Manager', 1)\n",
            "('Salesman', 3)\n",
            "('Supplier Relations', 1)\n"
          ]
        }
      ]
    },
    {
      "cell_type": "code",
      "source": [
        "groupby_Gender_Age=conn.execute('''select Gender,Count(Gender),Age from EmployeeDetails group by Gender,Age;''')\n",
        "for i in groupby_Gender_Age:\n",
        "  print(i)"
      ],
      "metadata": {
        "colab": {
          "base_uri": "https://localhost:8080/"
        },
        "id": "liFeF-94ByPt",
        "outputId": "85e9294a-a523-43b3-a325-7cd024d09ef7"
      },
      "execution_count": 11,
      "outputs": [
        {
          "output_type": "stream",
          "name": "stdout",
          "text": [
            "('Female', 1, 30)\n",
            "('Female', 1, 31)\n",
            "('Female', 1, 32)\n",
            "('Male', 1, 29)\n",
            "('Male', 1, 30)\n",
            "('Male', 1, 31)\n",
            "('Male', 1, 32)\n",
            "('Male', 1, 35)\n",
            "('Male', 1, 38)\n"
          ]
        }
      ]
    },
    {
      "cell_type": "code",
      "source": [
        "groupby_Gender_Age=conn.execute('''select Gender,Count(Gender),Age from EmployeeDetails where Age>31 group by Gender;''')\n",
        "for i in groupby_Gender_Age:\n",
        "  print(i)"
      ],
      "metadata": {
        "colab": {
          "base_uri": "https://localhost:8080/"
        },
        "id": "GoP__RRoCMr8",
        "outputId": "4e52243d-8e52-46c7-aa48-f693236071c2"
      },
      "execution_count": 12,
      "outputs": [
        {
          "output_type": "stream",
          "name": "stdout",
          "text": [
            "('Female', 1, 32)\n",
            "('Male', 3, 32)\n"
          ]
        }
      ]
    },
    {
      "cell_type": "markdown",
      "source": [
        "```\n",
        "ORDER BY Query\n"
      ],
      "metadata": {
        "id": "8mcKQm2QCkdk"
      }
    },
    {
      "cell_type": "code",
      "source": [
        "#by default 'ASC': ascending "
      ],
      "metadata": {
        "id": "VYsi0SrqDb_w"
      },
      "execution_count": null,
      "outputs": []
    },
    {
      "cell_type": "code",
      "source": [
        "groupby_Gender_Age=conn.execute('''select Gender,Count(Gender),Age from EmployeeDetails group by Gender,Age order by Age;''')\n",
        "for i in groupby_Gender_Age:\n",
        "  print(i)"
      ],
      "metadata": {
        "colab": {
          "base_uri": "https://localhost:8080/"
        },
        "id": "co4JsjzpCax5",
        "outputId": "bb010069-0246-4a82-c0f4-d2d76cdfd95f"
      },
      "execution_count": 15,
      "outputs": [
        {
          "output_type": "stream",
          "name": "stdout",
          "text": [
            "('Male', 1, 29)\n",
            "('Female', 1, 30)\n",
            "('Male', 1, 30)\n",
            "('Female', 1, 31)\n",
            "('Male', 1, 31)\n",
            "('Female', 1, 32)\n",
            "('Male', 1, 32)\n",
            "('Male', 1, 35)\n",
            "('Male', 1, 38)\n"
          ]
        }
      ]
    },
    {
      "cell_type": "code",
      "source": [
        "#'DESC' means descending"
      ],
      "metadata": {
        "id": "TDsKElyfDoec"
      },
      "execution_count": null,
      "outputs": []
    },
    {
      "cell_type": "code",
      "source": [
        "groupby_Gender_Age=conn.execute('''select Gender,Age from EmployeeDetails group by Gender,Age order by Age desc;''')\n",
        "for i in groupby_Gender_Age:\n",
        "  print(i)"
      ],
      "metadata": {
        "colab": {
          "base_uri": "https://localhost:8080/"
        },
        "id": "rBLvDCcbC3XC",
        "outputId": "122eeca7-09a4-46e4-8f61-c16b88c82342"
      },
      "execution_count": 16,
      "outputs": [
        {
          "output_type": "stream",
          "name": "stdout",
          "text": [
            "('Male', 38)\n",
            "('Male', 35)\n",
            "('Female', 32)\n",
            "('Male', 32)\n",
            "('Female', 31)\n",
            "('Male', 31)\n",
            "('Female', 30)\n",
            "('Male', 30)\n",
            "('Male', 29)\n"
          ]
        }
      ]
    },
    {
      "cell_type": "code",
      "source": [
        "groupby_Gender_Age=conn.execute('''select Gender,Count(Age) as Count_Age from EmployeeDetails group by Gender order by Age desc,Count_Age desc;''')\n",
        "for i in groupby_Gender_Age:\n",
        "  print(i)"
      ],
      "metadata": {
        "colab": {
          "base_uri": "https://localhost:8080/"
        },
        "id": "mDqo4_RgDkst",
        "outputId": "b0af51df-8aa0-4d96-fe56-49fffb463ac0"
      },
      "execution_count": 17,
      "outputs": [
        {
          "output_type": "stream",
          "name": "stdout",
          "text": [
            "('Male', 6)\n",
            "('Female', 3)\n"
          ]
        }
      ]
    },
    {
      "cell_type": "code",
      "source": [
        "groupby_Gender_Age=conn.execute('''select * from EmployeeDetails order by 2;''')  #Order By 2 => we can use column numbers instead of column names.\n",
        "for i in groupby_Gender_Age:\n",
        "  print(i)"
      ],
      "metadata": {
        "colab": {
          "base_uri": "https://localhost:8080/"
        },
        "id": "WxGYpGecEAp6",
        "outputId": "5c8c731d-f520-4770-b86d-cc4451c55a91"
      },
      "execution_count": 22,
      "outputs": [
        {
          "output_type": "stream",
          "name": "stdout",
          "text": [
            "(1004, 'Angela', 'Martin', 31, 'Female')\n",
            "(1003, 'Dwight', 'Schrute', 29, 'Male')\n",
            "(1001, 'Jim', 'Halpert', 30, 'Male')\n",
            "(1009, 'Kevin', 'Malone', 31, 'Male')\n",
            "(1007, 'Meredith', 'Palmer', 32, 'Female')\n",
            "(1006, 'Michael', 'Scott', 35, 'Male')\n",
            "(1002, 'Pam', 'Beasley', 30, 'Female')\n",
            "(1008, 'Stanley', 'Hudson', 38, 'Male')\n",
            "(1005, 'Toby', 'Flenderson', 32, 'Male')\n"
          ]
        }
      ]
    }
  ]
}