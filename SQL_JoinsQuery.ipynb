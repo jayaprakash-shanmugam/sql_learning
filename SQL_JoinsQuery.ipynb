{
  "nbformat": 4,
  "nbformat_minor": 0,
  "metadata": {
    "colab": {
      "provenance": []
    },
    "kernelspec": {
      "name": "python3",
      "display_name": "Python 3"
    },
    "language_info": {
      "name": "python"
    }
  },
  "cells": [
    {
      "cell_type": "code",
      "execution_count": 2,
      "metadata": {
        "colab": {
          "base_uri": "https://localhost:8080/"
        },
        "id": "Q0t7k0iUr7tP",
        "outputId": "e5f873b0-147e-4566-d7b9-36287225b1de"
      },
      "outputs": [
        {
          "output_type": "stream",
          "name": "stdout",
          "text": [
            "Opened database successfully\n"
          ]
        }
      ],
      "source": [
        "import sqlite3\n",
        "conn = sqlite3.connect('BookStore.db')\n",
        "print(\"Opened database successfully\");"
      ]
    },
    {
      "cell_type": "code",
      "source": [
        "# Table 1 Query:\n",
        "conn.execute('''CREATE TABLE Books\n",
        "(\n",
        "Id INT PRIMARY KEY,\n",
        "Name VARCHAR (50) NOT NULL,\n",
        "Price INT,\n",
        "CategoryId INT, \n",
        "AuthorId INT\n",
        ");''')\n",
        "conn.commit()"
      ],
      "metadata": {
        "id": "5IMyhNiYsX2g"
      },
      "execution_count": 3,
      "outputs": []
    },
    {
      "cell_type": "code",
      "source": [
        "# Table 2 Query:\n",
        "conn.execute('''CREATE TABLE Categories\n",
        "(\n",
        "Id INT PRIMARY KEY,\n",
        "Name VARCHAR (50) NOT NULL\n",
        ");''')\n",
        "conn.commit()"
      ],
      "metadata": {
        "id": "KLd3b-VFt-wU"
      },
      "execution_count": 6,
      "outputs": []
    },
    {
      "cell_type": "code",
      "source": [
        "# Table 3 Query:\n",
        "conn.execute('''CREATE TABLE Authors\n",
        "(\n",
        "Id INT PRIMARY KEY,\n",
        "Name VARCHAR (50) NOT NULL\n",
        ");''')\n",
        "conn.commit()"
      ],
      "metadata": {
        "id": "4jkpaFS-uCnp"
      },
      "execution_count": 8,
      "outputs": []
    },
    {
      "cell_type": "code",
      "source": [
        "conn.execute('''INSERT INTO Categories \n",
        "VALUES (1, 'Cat-A'),\n",
        "(2, 'Cat-B'),\n",
        "(3, 'Cat-C'),\n",
        "(7, 'Cat-D'),\n",
        "(8, 'Cat-E'),\n",
        "(4, 'Cat-F'),\n",
        "(10,'Cat-G'),\n",
        "(12,'Cat-H'),\n",
        "(6, 'Cat-I');''')\n",
        "conn.commit()"
      ],
      "metadata": {
        "id": "MJJJ0REjullx"
      },
      "execution_count": 9,
      "outputs": []
    },
    {
      "cell_type": "code",
      "source": [
        "conn.execute('''INSERT INTO Authors\n",
        "VALUES (1, 'Author-A'),\n",
        "(2, 'Author-B'),\n",
        "(3, 'Author-C'),\n",
        "(10, 'Author-D'),\n",
        "(12, 'Author-E');''')\n",
        "conn.commit()"
      ],
      "metadata": {
        "id": "yEPonPUXuySZ"
      },
      "execution_count": 10,
      "outputs": []
    },
    {
      "cell_type": "code",
      "source": [
        "conn.execute('''INSERT INTO Books \n",
        "VALUES ( 01,'Book-A', 100, 1, 2),\n",
        "( 02,'Book-B', 200, 2, 2),\n",
        "( 03,'Book-C', 150, 3, 2),\n",
        "( 04,'Book-D', 100, 3,1),\n",
        "( 05,'Book-E', 200, 3,1),\n",
        "( 06,'Book-F', 150, 4,1),\n",
        "( 07,'Book-G', 100, 5,5),\n",
        "( 08,'Book-H', 200, 5,6),\n",
        "(09,'Book-I', 150, 7,8);''')\n",
        "conn.commit()"
      ],
      "metadata": {
        "id": "ACZYaAXvu1i9"
      },
      "execution_count": 13,
      "outputs": []
    },
    {
      "cell_type": "markdown",
      "source": [
        "```\n",
        "INNER JOIN\n"
      ],
      "metadata": {
        "id": "S8NWmTbXvqaY"
      }
    },
    {
      "cell_type": "code",
      "source": [
        "inner_join=conn.execute('''select * from Books inner join Categories on Books.CategoryId = Categories.Id''')\n",
        "for i in inner_join:\n",
        "  print(i)"
      ],
      "metadata": {
        "colab": {
          "base_uri": "https://localhost:8080/"
        },
        "id": "c4fwU3qtvAdC",
        "outputId": "4454dca7-1aa6-4e0c-fd1e-ed9dcb32027b"
      },
      "execution_count": 16,
      "outputs": [
        {
          "output_type": "stream",
          "name": "stdout",
          "text": [
            "(1, 'Book-A', 100, 1, 2, 1, 'Cat-A')\n",
            "(2, 'Book-B', 200, 2, 2, 2, 'Cat-B')\n",
            "(3, 'Book-C', 150, 3, 2, 3, 'Cat-C')\n",
            "(4, 'Book-D', 100, 3, 1, 3, 'Cat-C')\n",
            "(5, 'Book-E', 200, 3, 1, 3, 'Cat-C')\n",
            "(6, 'Book-F', 150, 4, 1, 4, 'Cat-F')\n",
            "(9, 'Book-I', 150, 7, 8, 7, 'Cat-D')\n"
          ]
        }
      ]
    },
    {
      "cell_type": "markdown",
      "source": [
        "```\n",
        "LEFT JOIN\n"
      ],
      "metadata": {
        "id": "jB_nQ5EH58d8"
      }
    },
    {
      "cell_type": "code",
      "source": [
        "left_join=conn.execute('''select * from Books left join Categories on Books.CategoryId = Categories.Id''')\n",
        "for i in left_join:\n",
        "  print(i)"
      ],
      "metadata": {
        "colab": {
          "base_uri": "https://localhost:8080/"
        },
        "id": "85vpUnL3z8v4",
        "outputId": "c08d59b7-dc12-4a8e-d633-6315b0903723"
      },
      "execution_count": 17,
      "outputs": [
        {
          "output_type": "stream",
          "name": "stdout",
          "text": [
            "(1, 'Book-A', 100, 1, 2, 1, 'Cat-A')\n",
            "(2, 'Book-B', 200, 2, 2, 2, 'Cat-B')\n",
            "(3, 'Book-C', 150, 3, 2, 3, 'Cat-C')\n",
            "(4, 'Book-D', 100, 3, 1, 3, 'Cat-C')\n",
            "(5, 'Book-E', 200, 3, 1, 3, 'Cat-C')\n",
            "(6, 'Book-F', 150, 4, 1, 4, 'Cat-F')\n",
            "(7, 'Book-G', 100, 5, 5, None, None)\n",
            "(8, 'Book-H', 200, 5, 6, None, None)\n",
            "(9, 'Book-I', 150, 7, 8, 7, 'Cat-D')\n"
          ]
        }
      ]
    },
    {
      "cell_type": "markdown",
      "source": [
        "```\n",
        "RIGHT JOIN\n"
      ],
      "metadata": {
        "id": "gCevkmF45-3L"
      }
    },
    {
      "cell_type": "code",
      "source": [
        "right_join=conn.execute('''select * from Books right join Categories on Books.CategoryId = Categories.Id''')\n",
        "for i in right_join:\n",
        "  print(i)"
      ],
      "metadata": {
        "id": "uHR24mIb0Dd8"
      },
      "execution_count": null,
      "outputs": []
    },
    {
      "cell_type": "markdown",
      "source": [
        "```\n",
        "FULL OUTER OR FULL JOIN\n"
      ],
      "metadata": {
        "id": "O1Y_gzPc6Aq7"
      }
    },
    {
      "cell_type": "code",
      "source": [
        "outer_join=conn.execute('''select * from Books full outer join Categories on Books.CategoryId = Categories.Id''')\n",
        "for i in outer_join:\n",
        "  print(i)"
      ],
      "metadata": {
        "id": "GCsngKgS0Z3Y"
      },
      "execution_count": null,
      "outputs": []
    },
    {
      "cell_type": "markdown",
      "source": [
        "```\n",
        "SELECT Queries\n"
      ],
      "metadata": {
        "id": "p4ptkC5q6Eio"
      }
    },
    {
      "cell_type": "code",
      "source": [
        "select_join=conn.execute('''select Books.Name,Authors.Name from Books inner join Authors on Books.AuthorId = Authors.Id''')\n",
        "for i in select_join:\n",
        "  print(i)"
      ],
      "metadata": {
        "colab": {
          "base_uri": "https://localhost:8080/"
        },
        "id": "buqrACet0nu6",
        "outputId": "2021e74e-28de-4f66-d003-77e3ad619959"
      },
      "execution_count": 19,
      "outputs": [
        {
          "output_type": "stream",
          "name": "stdout",
          "text": [
            "('Book-A', 'Author-B')\n",
            "('Book-B', 'Author-B')\n",
            "('Book-C', 'Author-B')\n",
            "('Book-D', 'Author-A')\n",
            "('Book-E', 'Author-A')\n",
            "('Book-F', 'Author-A')\n"
          ]
        }
      ]
    },
    {
      "cell_type": "code",
      "source": [
        "select_join=conn.execute('''select Authors.Name,count(Books.Name) from Books inner join Authors on Books.AuthorId = Authors.Id group by Authors.Name''')\n",
        "for i in select_join:\n",
        "  print(i)"
      ],
      "metadata": {
        "colab": {
          "base_uri": "https://localhost:8080/"
        },
        "id": "QSxhsBZa3SRO",
        "outputId": "afa14fea-cbc7-432e-b4ed-d71dceb9504f"
      },
      "execution_count": 23,
      "outputs": [
        {
          "output_type": "stream",
          "name": "stdout",
          "text": [
            "('Author-A', 3)\n",
            "('Author-B', 3)\n"
          ]
        }
      ]
    },
    {
      "cell_type": "code",
      "source": [
        "select_join=conn.execute('''select Books.Name,Books.Price,Authors.Name from Books inner join Authors on Books.AuthorId = Authors.Id''')\n",
        "for i in select_join:\n",
        "  print(i)"
      ],
      "metadata": {
        "colab": {
          "base_uri": "https://localhost:8080/"
        },
        "id": "Hgv4PESv3igu",
        "outputId": "ae77dd8f-6ff9-4fae-eeb6-bc3819c7c95a"
      },
      "execution_count": 24,
      "outputs": [
        {
          "output_type": "stream",
          "name": "stdout",
          "text": [
            "('Book-A', 100, 'Author-B')\n",
            "('Book-B', 200, 'Author-B')\n",
            "('Book-C', 150, 'Author-B')\n",
            "('Book-D', 100, 'Author-A')\n",
            "('Book-E', 200, 'Author-A')\n",
            "('Book-F', 150, 'Author-A')\n"
          ]
        }
      ]
    },
    {
      "cell_type": "code",
      "source": [
        "select_join=conn.execute('''select count(Books.Price),Authors.Name from Books inner join Authors on Books.AuthorId = Authors.Id group by Authors.Name''')\n",
        "for i in select_join:\n",
        "  print(i)"
      ],
      "metadata": {
        "colab": {
          "base_uri": "https://localhost:8080/"
        },
        "id": "iTKi1IfE4Gue",
        "outputId": "017d2b66-36bd-4847-ed10-cb21a18348f2"
      },
      "execution_count": 30,
      "outputs": [
        {
          "output_type": "stream",
          "name": "stdout",
          "text": [
            "(3, 'Author-A')\n",
            "(3, 'Author-B')\n"
          ]
        }
      ]
    },
    {
      "cell_type": "code",
      "source": [
        "select_join=conn.execute('''select Books.Price,count(Authors.Name) from Books inner join Authors on Books.AuthorId = Authors.Id group by Books.Price''')\n",
        "for i in select_join:\n",
        "  print(i)"
      ],
      "metadata": {
        "colab": {
          "base_uri": "https://localhost:8080/"
        },
        "id": "aSbW30JX4RWt",
        "outputId": "002dfd68-70b6-43dd-f6c9-d922079821e6"
      },
      "execution_count": 31,
      "outputs": [
        {
          "output_type": "stream",
          "name": "stdout",
          "text": [
            "(100, 2)\n",
            "(150, 2)\n",
            "(200, 2)\n"
          ]
        }
      ]
    },
    {
      "cell_type": "code",
      "source": [
        "select_join=conn.execute('''select Books.Name,Books.Price,Authors.Name from Books inner join Authors on Books.AuthorId = Authors.Id order by Books.Price''')\n",
        "for i in select_join:\n",
        "  print(i)"
      ],
      "metadata": {
        "colab": {
          "base_uri": "https://localhost:8080/"
        },
        "id": "J414Rafw4zp6",
        "outputId": "a29e1e08-8344-4c07-ae3c-407dc88b9c06"
      },
      "execution_count": 33,
      "outputs": [
        {
          "output_type": "stream",
          "name": "stdout",
          "text": [
            "('Book-A', 100, 'Author-B')\n",
            "('Book-D', 100, 'Author-A')\n",
            "('Book-C', 150, 'Author-B')\n",
            "('Book-F', 150, 'Author-A')\n",
            "('Book-B', 200, 'Author-B')\n",
            "('Book-E', 200, 'Author-A')\n"
          ]
        }
      ]
    },
    {
      "cell_type": "code",
      "source": [
        "select_join=conn.execute('''select Books.Name,Books.Price,Authors.Name from Books inner join Authors on Books.AuthorId = Authors.Id order by Books.Price desc''')\n",
        "for i in select_join:\n",
        "  print(i)"
      ],
      "metadata": {
        "colab": {
          "base_uri": "https://localhost:8080/"
        },
        "id": "lQ3gK0bN4_qG",
        "outputId": "bff2a59d-f719-4c50-fe14-2a703b928513"
      },
      "execution_count": 34,
      "outputs": [
        {
          "output_type": "stream",
          "name": "stdout",
          "text": [
            "('Book-B', 200, 'Author-B')\n",
            "('Book-E', 200, 'Author-A')\n",
            "('Book-C', 150, 'Author-B')\n",
            "('Book-F', 150, 'Author-A')\n",
            "('Book-A', 100, 'Author-B')\n",
            "('Book-D', 100, 'Author-A')\n"
          ]
        }
      ]
    },
    {
      "cell_type": "code",
      "source": [
        "select_join=conn.execute('''select Books.Name,Books.Price,Authors.Name from Books inner join Authors on Books.AuthorId = Authors.Id order by Books.Price desc limit 2''')\n",
        "for i in select_join:\n",
        "  print(i)"
      ],
      "metadata": {
        "colab": {
          "base_uri": "https://localhost:8080/"
        },
        "id": "le-IK7t15PVj",
        "outputId": "e00af4d3-b4ef-4137-bb1e-10fbdd4909d5"
      },
      "execution_count": 38,
      "outputs": [
        {
          "output_type": "stream",
          "name": "stdout",
          "text": [
            "('Book-B', 200, 'Author-B')\n",
            "('Book-E', 200, 'Author-A')\n"
          ]
        }
      ]
    },
    {
      "cell_type": "code",
      "source": [],
      "metadata": {
        "id": "oN5GUhg25iHG"
      },
      "execution_count": null,
      "outputs": []
    }
  ]
}