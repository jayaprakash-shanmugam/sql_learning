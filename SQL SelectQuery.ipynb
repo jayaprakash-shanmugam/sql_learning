{
  "nbformat": 4,
  "nbformat_minor": 0,
  "metadata": {
    "colab": {
      "provenance": []
    },
    "kernelspec": {
      "name": "python3",
      "display_name": "Python 3"
    },
    "language_info": {
      "name": "python"
    }
  },
  "cells": [
    {
      "cell_type": "markdown",
      "source": [
        "SQLite"
      ],
      "metadata": {
        "id": "Ge0PlB8IBPF2"
      }
    },
    {
      "cell_type": "markdown",
      "source": [
        "```\n",
        "db creation\n",
        "```"
      ],
      "metadata": {
        "id": "1TPzDswG_3_X"
      }
    },
    {
      "cell_type": "code",
      "execution_count": 14,
      "metadata": {
        "colab": {
          "base_uri": "https://localhost:8080/"
        },
        "id": "RdSvdfeI4LyF",
        "outputId": "214981b5-c8c3-4bff-9b09-0ff1f6a4b730"
      },
      "outputs": [
        {
          "output_type": "stream",
          "name": "stdout",
          "text": [
            "Opened database successfully\n"
          ]
        }
      ],
      "source": [
        "import sqlite3\n",
        "conn = sqlite3.connect('Employees.db')\n",
        "print(\"Opened database successfully\");"
      ]
    },
    {
      "cell_type": "markdown",
      "source": [
        "```\n",
        "CREATE  table \n",
        "```"
      ],
      "metadata": {
        "id": "OYk5QRiF__Mf"
      }
    },
    {
      "cell_type": "code",
      "source": [
        "# Table 1 Query:\n",
        "conn.execute('''Create Table EmployeeDetails(\n",
        "EmployeeID int, \n",
        "FirstName varchar(50), \n",
        "LastName varchar(50), \n",
        "Age int, \n",
        "Gender varchar(50)\n",
        ");''')\n",
        "conn.commit()"
      ],
      "metadata": {
        "id": "Ua8jnxx28TUt"
      },
      "execution_count": 15,
      "outputs": []
    },
    {
      "cell_type": "code",
      "source": [
        "#Table 2 Query:\n",
        "conn.execute('''Create Table EmployeeSalary(\n",
        "EmployeeID int, \n",
        "JobTitle varchar(50), \n",
        "Salary int\n",
        ");''')\n",
        "conn.commit()"
      ],
      "metadata": {
        "id": "xd8DRJT6DCue"
      },
      "execution_count": 16,
      "outputs": []
    },
    {
      "cell_type": "markdown",
      "source": [
        "\n",
        "\n",
        "```\n",
        "INSERT query\n",
        "```\n",
        "\n"
      ],
      "metadata": {
        "id": "_hJq6f6pAB6a"
      }
    },
    {
      "cell_type": "code",
      "source": [
        "# Table 1 Insertion Query:\n",
        "conn.execute('''Insert into EmployeeDetails VALUES\n",
        "(1001, 'Jim', 'Halpert', 30, 'Male'),\n",
        "(1002, 'Pam', 'Beasley', 30, 'Female'),\n",
        "(1003, 'Dwight', 'Schrute', 29, 'Male'),\n",
        "(1004, 'Angela', 'Martin', 31, 'Female'),\n",
        "(1005, 'Toby', 'Flenderson', 32, 'Male'),\n",
        "(1006, 'Michael', 'Scott', 35, 'Male'),\n",
        "(1007, 'Meredith', 'Palmer', 32, 'Female'),\n",
        "(1008, 'Stanley', 'Hudson', 38, 'Male'),\n",
        "(1009, 'Kevin', 'Malone', 31, 'Male');''')\n",
        "conn.commit()"
      ],
      "metadata": {
        "id": "b0wpcXtX-N7t"
      },
      "execution_count": 17,
      "outputs": []
    },
    {
      "cell_type": "code",
      "source": [
        "# Table 2 Insertion Query:\n",
        "conn.execute('''Insert Into EmployeeSalary VALUES\n",
        "(1001, 'Salesman', 45000),\n",
        "(1002, 'Receptionist', 36000),\n",
        "(1003, 'Salesman', 63000),\n",
        "(1004, 'Accountant', 47000),\n",
        "(1005, 'HR', 50000),\n",
        "(1006, 'Regional Manager', 65000),\n",
        "(1007, 'Supplier Relations', 41000),\n",
        "(1008, 'Salesman', 48000),\n",
        "(1009, 'Accountant', 42000);''')\n",
        "conn.commit()"
      ],
      "metadata": {
        "id": "AbVDjQAVDkw5"
      },
      "execution_count": 18,
      "outputs": []
    },
    {
      "cell_type": "markdown",
      "source": [
        "```\n",
        "SELECT query\n"
      ],
      "metadata": {
        "id": "ue_iHxcuAsL4"
      }
    },
    {
      "cell_type": "code",
      "source": [
        "# Select query for table1\n",
        "EmployeeDetails=conn.execute('''select * from EmployeeDetails;''')\n",
        "for i in EmployeeDetails:\n",
        "  print(i)\n",
        "  "
      ],
      "metadata": {
        "colab": {
          "base_uri": "https://localhost:8080/"
        },
        "id": "QqRDExjr-bwX",
        "outputId": "4ff6402c-6896-4eb9-ba40-179b58b46658"
      },
      "execution_count": 23,
      "outputs": [
        {
          "output_type": "stream",
          "name": "stdout",
          "text": [
            "(1001, 'Jim', 'Halpert', 30, 'Male')\n",
            "(1002, 'Pam', 'Beasley', 30, 'Female')\n",
            "(1003, 'Dwight', 'Schrute', 29, 'Male')\n",
            "(1004, 'Angela', 'Martin', 31, 'Female')\n",
            "(1005, 'Toby', 'Flenderson', 32, 'Male')\n",
            "(1006, 'Michael', 'Scott', 35, 'Male')\n",
            "(1007, 'Meredith', 'Palmer', 32, 'Female')\n",
            "(1008, 'Stanley', 'Hudson', 38, 'Male')\n",
            "(1009, 'Kevin', 'Malone', 31, 'Male')\n"
          ]
        }
      ]
    },
    {
      "cell_type": "code",
      "source": [
        "# Select query for table2\n",
        "EmployeeSalary=conn.execute('''select * from EmployeeSalary''')\n",
        "for i in EmployeeSalary:\n",
        "  print(i)"
      ],
      "metadata": {
        "colab": {
          "base_uri": "https://localhost:8080/"
        },
        "id": "DaS_eEcJD7ju",
        "outputId": "b11e3ea4-78f7-4041-edbc-debf8017c17e"
      },
      "execution_count": 24,
      "outputs": [
        {
          "output_type": "stream",
          "name": "stdout",
          "text": [
            "(1001, 'Salesman', 45000)\n",
            "(1002, 'Receptionist', 36000)\n",
            "(1003, 'Salesman', 63000)\n",
            "(1004, 'Accountant', 47000)\n",
            "(1005, 'HR', 50000)\n",
            "(1006, 'Regional Manager', 65000)\n",
            "(1007, 'Supplier Relations', 41000)\n",
            "(1008, 'Salesman', 48000)\n",
            "(1009, 'Accountant', 42000)\n"
          ]
        }
      ]
    },
    {
      "cell_type": "code",
      "source": [
        "specific_columns=conn.execute('''select FirstName,LastName from EmployeeDetails''')\n",
        "for i in specific_columns:\n",
        "  print(i)"
      ],
      "metadata": {
        "colab": {
          "base_uri": "https://localhost:8080/"
        },
        "id": "Lq51VbmkEL35",
        "outputId": "71d0782e-81ae-4ba4-aefb-41a03377f65b"
      },
      "execution_count": 25,
      "outputs": [
        {
          "output_type": "stream",
          "name": "stdout",
          "text": [
            "('Jim', 'Halpert')\n",
            "('Pam', 'Beasley')\n",
            "('Dwight', 'Schrute')\n",
            "('Angela', 'Martin')\n",
            "('Toby', 'Flenderson')\n",
            "('Michael', 'Scott')\n",
            "('Meredith', 'Palmer')\n",
            "('Stanley', 'Hudson')\n",
            "('Kevin', 'Malone')\n"
          ]
        }
      ]
    },
    {
      "cell_type": "code",
      "source": [
        "top_five=conn.execute('''select * from EmployeeDetails limit 5''')\n",
        "for i in top_five:\n",
        "  print(i)\n",
        "#SQLite does have a way to select the top N rows from an SQL query, but the syntax does not use the top keyword. Instead, the limit keyword must be used."
      ],
      "metadata": {
        "colab": {
          "base_uri": "https://localhost:8080/"
        },
        "id": "Tao5JbZ4EyQk",
        "outputId": "02645001-87c5-4f31-b469-7de0467e5399"
      },
      "execution_count": 36,
      "outputs": [
        {
          "output_type": "stream",
          "name": "stdout",
          "text": [
            "(1001, 'Jim', 'Halpert', 30, 'Male')\n",
            "(1002, 'Pam', 'Beasley', 30, 'Female')\n",
            "(1003, 'Dwight', 'Schrute', 29, 'Male')\n",
            "(1004, 'Angela', 'Martin', 31, 'Female')\n",
            "(1005, 'Toby', 'Flenderson', 32, 'Male')\n"
          ]
        }
      ]
    },
    {
      "cell_type": "code",
      "source": [
        "distinct_values=conn.execute('''SELECT DISTINCT(Gender) FROM EmployeeDetails''')\n",
        "for i in distinct_values:\n",
        "  print(i)"
      ],
      "metadata": {
        "colab": {
          "base_uri": "https://localhost:8080/"
        },
        "id": "k-d0bIZIGQGF",
        "outputId": "e7186d87-8297-4925-807c-b75ad94bb57f"
      },
      "execution_count": 38,
      "outputs": [
        {
          "output_type": "stream",
          "name": "stdout",
          "text": [
            "('Male',)\n",
            "('Female',)\n"
          ]
        }
      ]
    },
    {
      "cell_type": "code",
      "source": [
        "gender_count=conn.execute('''select count(Gender) as Gender_Count from EmployeeDetails''')\n",
        "for i in gender_count:\n",
        "  print(i)"
      ],
      "metadata": {
        "colab": {
          "base_uri": "https://localhost:8080/"
        },
        "id": "0v4WpYt1GtQZ",
        "outputId": "0784bb60-9a9d-4571-d891-00b468c37867"
      },
      "execution_count": 41,
      "outputs": [
        {
          "output_type": "stream",
          "name": "stdout",
          "text": [
            "(9,)\n"
          ]
        }
      ]
    },
    {
      "cell_type": "code",
      "source": [
        "# Maximum Salary\n",
        "max_salary=conn.execute('''SELECT max(Salary) FROM EmployeeSalary''')\n",
        "for i in max_salary:\n",
        "  print(i)"
      ],
      "metadata": {
        "colab": {
          "base_uri": "https://localhost:8080/"
        },
        "id": "yqFXuSmWHznK",
        "outputId": "c5510b56-db1e-47af-aa5c-25c4c46e43d3"
      },
      "execution_count": 44,
      "outputs": [
        {
          "output_type": "stream",
          "name": "stdout",
          "text": [
            "(65000,)\n"
          ]
        }
      ]
    },
    {
      "cell_type": "code",
      "source": [
        "# Minimum Salary\n",
        "min_salary=conn.execute('''SELECT min(Salary) FROM EmployeeSalary''')\n",
        "for i in min_salary:\n",
        "  print(i)"
      ],
      "metadata": {
        "colab": {
          "base_uri": "https://localhost:8080/"
        },
        "id": "uaiwDu_kHzfC",
        "outputId": "8b2bff76-5b67-4f08-81f5-c76b74acf29c"
      },
      "execution_count": 45,
      "outputs": [
        {
          "output_type": "stream",
          "name": "stdout",
          "text": [
            "(36000,)\n"
          ]
        }
      ]
    },
    {
      "cell_type": "code",
      "source": [
        "# Average Salary\n",
        "avg_salary=conn.execute('''SELECT avg(Salary) FROM EmployeeSalary''')\n",
        "for i in avg_salary:\n",
        "  print(i)"
      ],
      "metadata": {
        "colab": {
          "base_uri": "https://localhost:8080/"
        },
        "id": "b90Y4rhrHzNR",
        "outputId": "92b1f5f1-5139-4c89-9d9e-11a47e29ee0a"
      },
      "execution_count": 46,
      "outputs": [
        {
          "output_type": "stream",
          "name": "stdout",
          "text": [
            "(48555.555555555555,)\n"
          ]
        }
      ]
    },
    {
      "cell_type": "code",
      "source": [
        "nested_select=conn.execute('''select FirstName,LastName from EmployeeDetails where Age=(select Age from EmployeeDetails where EmployeeID=1006)''')\n",
        "for i in nested_select:\n",
        "  print(i)"
      ],
      "metadata": {
        "colab": {
          "base_uri": "https://localhost:8080/"
        },
        "id": "qzHaVXPF_vHd",
        "outputId": "dde9d0e8-d758-4d75-9775-2e4e6fc98886"
      },
      "execution_count": 47,
      "outputs": [
        {
          "output_type": "stream",
          "name": "stdout",
          "text": [
            "('Michael', 'Scott')\n"
          ]
        }
      ]
    }
  ]
}
